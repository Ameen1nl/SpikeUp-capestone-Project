{
 "cells": [
  {
   "cell_type": "markdown",
   "metadata": {},
   "source": [
    "# Data Analysis\n",
    "The notebook focuses on connecting to GCP to access the data from the bucket.\n",
    "\n",
    "To make the connection, we use a [GCP service account ](https://cloud.google.com/iam/docs/service-account-overview)that holds permissions to access our bucket.\n",
    "### Steps\n",
    "1. Access Service accounts in the GCP account\n",
    "2. Open `deng-capstone-service-account`\n",
    "3. Create a new key file and download it locally for access in the next step. Rename file to a concise name.\n",
    "4. Set path of the key file as option in your spark configuration -    `spark._jsc.hadoopConfiguration().set(\"google.cloud.auth.service.account.json.keyfile\",\"/path/to/file/<renamed>.json\")`\n",
    "\n",
    "### Resources\n",
    "1. https://gobiviswa.medium.com/google-cloud-storage-handson-connecting-using-pyspark-5eefc0d8d932\n",
    "2. https://cloud.google.com/iam/docs/service-account-overview\n"
   ]
  },
  {
   "cell_type": "markdown",
   "metadata": {
    "vscode": {
     "languageId": "plaintext"
    }
   },
   "source": [
    "## Spark Application setup"
   ]
  },
  {
   "cell_type": "code",
   "execution_count": null,
   "metadata": {},
   "outputs": [],
   "source": [
    "from datetime import datetime, timedelta\n",
    "\n",
    "from pyspark import SparkConf\n",
    "from pyspark.sql import SparkSession\n",
    "\n",
    "\n",
    "spark = SparkSession.builder \\\n",
    "    .appName('data-engineering-capstone') \\\n",
    "    .config(\"spark.jars\", \"https://storage.googleapis.com/hadoop-lib/gcs/gcs-connector-hadoop3-latest.jar\") \\\n",
    "    .config(\"spark.sql.repl.eagerEval.enabled\", True) \\\n",
    "    .getOrCreate()\n",
    "\n",
    "# Set GCS credentials. Ensure path points to you downloaded key file\n",
    "spark._jsc.hadoopConfiguration().set(\n",
    "    \"google.cloud.auth.service.account.json.keyfile\",\n",
    "    \"C:\\pro\\gcp-key.json\")\n",
    "\n"
   ]
  },
  {
   "cell_type": "markdown",
   "metadata": {},
   "source": [
    "## Read from GCS"
   ]
  },
  {
   "cell_type": "code",
   "execution_count": null,
   "metadata": {},
   "outputs": [],
   "source": [
    "# file path to data in GCS bucket\n",
    "\n",
    "file_path = \"gs://ecommerce-customer/e-commerce-customer-behavior.csv\"\n",
    "\n",
    "\n",
    "df = spark.read.csv(file_path, header=True, inferSchema=True)\n",
    "\n",
    "df.show(5)"
   ]
  },
  {
   "cell_type": "code",
   "execution_count": null,
   "metadata": {},
   "outputs": [],
   "source": [
    "# Describe the dataset\n",
    "df.describe().show()\n"
   ]
  },
  {
   "cell_type": "code",
   "execution_count": null,
   "metadata": {},
   "outputs": [],
   "source": [
    "# Drop all rows that contain any null values in any column\n",
    "df = df.dropna()\n"
   ]
  },
  {
   "cell_type": "code",
   "execution_count": null,
   "metadata": {},
   "outputs": [],
   "source": [
    "# Remove duplicate rows from the DataFrame\n",
    "df = df.dropDuplicates()\n"
   ]
  },
  {
   "cell_type": "code",
   "execution_count": null,
   "metadata": {},
   "outputs": [],
   "source": [
    "# Display summary statistics of the DataFrame (count, mean, stddev, min, max) for numerical columns\n",
    "df.describe().show()\n"
   ]
  },
  {
   "cell_type": "code",
   "execution_count": null,
   "metadata": {},
   "outputs": [],
   "source": [
    "# Segmentation based on spending habits, demographics, loyalty, and satisfaction\n",
    "from pyspark.sql.functions import when\n",
    "\n",
    "segmentation_df = df.withColumn(\"SpendingCategory\", \n",
    "                                when(df[\"Total Spend\"] > 1000, \"High\")\n",
    "                                .when(df[\"Total Spend\"] > 500, \"Medium\")\n",
    "                                .otherwise(\"Low\"))\n",
    "\n",
    "segmentation_df.show()\n"
   ]
  },
  {
   "cell_type": "code",
   "execution_count": null,
   "metadata": {},
   "outputs": [],
   "source": [
    "from pyspark.sql.functions import current_date, datediff\n",
    "\n",
    "# Identify inactive customers (no purchase in the last 30 days)\n",
    "inactive_customers = segmentation_df.filter((segmentation_df[\"Days Since Last Purchase\"]) > 30)\n",
    "\n",
    "# Identify recent customers (purchased within the last 7 days)\n",
    "recent_customers = segmentation_df.filter((segmentation_df[\"Days Since Last Purchase\"]) <= 30)\n",
    "\n",
    "\n"
   ]
  },
  {
   "cell_type": "code",
   "execution_count": null,
   "metadata": {},
   "outputs": [],
   "source": [
    "# Display the content of the 'inactive_customers' DataFrame\n",
    "inactive_customers.show()\n"
   ]
  },
  {
   "cell_type": "code",
   "execution_count": null,
   "metadata": {},
   "outputs": [],
   "source": [
    "# Display the content of the 'recent_customers' DataFrame\n",
    "recent_customers.show()\n"
   ]
  },
  {
   "cell_type": "code",
   "execution_count": null,
   "metadata": {},
   "outputs": [],
   "source": [
    "from datetime import datetime\n",
    "\n",
    "# Get current datetime in the format MMDDYYYYHHMMSS\n",
    "datetime_now = datetime.now().strftime(\"%m%d%Y%H%M%S\")\n",
    "\n",
    "# Define the base output path using formatted strings\n",
    "base_output_path = f\"gs://ecommerce-customer/output/{datetime_now}\"\n",
    "\n",
    "# Write inactive customers to GCS with overwrite mode\n",
    "inactive_customers_output_path = f\"{base_output_path}/inactive_customers\"\n",
    "inactive_customers.write.csv(inactive_customers_output_path, header=True, mode='overwrite')\n",
    "\n",
    "# Write recent customers to GCS with overwrite mode\n",
    "recent_customers_output_path = f\"{base_output_path}/recent_customers\"\n",
    "recent_customers.write.csv(recent_customers_output_path, header=True, mode='overwrite')\n",
    "\n"
   ]
  },
  {
   "cell_type": "code",
   "execution_count": null,
   "metadata": {},
   "outputs": [],
   "source": [
    "\n",
    "df = segmentation_df\n",
    "df.show()"
   ]
  }
 ],
 "metadata": {
  "kernelspec": {
   "display_name": "Python 3 (ipykernel)",
   "language": "python",
   "name": "python3"
  },
  "language_info": {
   "codemirror_mode": {
    "name": "ipython",
    "version": 3
   },
   "file_extension": ".py",
   "mimetype": "text/x-python",
   "name": "python",
   "nbconvert_exporter": "python",
   "pygments_lexer": "ipython3",
   "version": "3.8.19"
  }
 },
 "nbformat": 4,
 "nbformat_minor": 4
}
